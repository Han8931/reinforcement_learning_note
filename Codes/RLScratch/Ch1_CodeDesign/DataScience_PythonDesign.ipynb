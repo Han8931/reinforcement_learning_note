{
 "cells": [
  {
   "cell_type": "markdown",
   "id": "c714468c",
   "metadata": {},
   "source": [
    "# How to implement datascience code?"
   ]
  },
  {
   "cell_type": "code",
   "execution_count": 1,
   "id": "6c9b1a43",
   "metadata": {},
   "outputs": [],
   "source": [
    "from random import randint\n",
    "\n",
    "def six_sided():\n",
    "    return randint(1,6)\n",
    "\n",
    "def roll_dice():\n",
    "    return six_sided()+six_sided()"
   ]
  },
  {
   "cell_type": "markdown",
   "id": "71a04bce",
   "metadata": {},
   "source": [
    "- Hard to debug\n",
    "- Hard to refactor"
   ]
  },
  {
   "cell_type": "markdown",
   "id": "dc7d986b",
   "metadata": {},
   "source": [
    "## Abstraction with `__repr__`"
   ]
  },
  {
   "cell_type": "code",
   "execution_count": 2,
   "id": "19f849d2",
   "metadata": {},
   "outputs": [],
   "source": [
    "import random\n",
    "\n",
    "from abc import ABC, abstractmethod\n",
    "\n",
    "class Distribution(ABC):\n",
    "    @abstractmethod\n",
    "    def sample(self):\n",
    "        pass\n"
   ]
  },
  {
   "cell_type": "markdown",
   "id": "aeeaa4a1",
   "metadata": {},
   "source": [
    "We have defined an abstract class defining interfaces for probability distributions in general."
   ]
  },
  {
   "cell_type": "code",
   "execution_count": 3,
   "id": "5aad5b55",
   "metadata": {},
   "outputs": [],
   "source": [
    "class Die(Distribution):\n",
    "    def __init__(self, sides):\n",
    "        self.sides = sides # Attribute\n",
    "\n",
    "    # This one makes debugging much easier\n",
    "    # A function cannot do this\n",
    "    def __repr__(self):\n",
    "        return f\"Die(sides={self.sides})\"\n",
    "\n",
    "    def sample(self):\n",
    "        return random.randint(1, self.sides)"
   ]
  },
  {
   "cell_type": "code",
   "execution_count": 4,
   "id": "946e98bd",
   "metadata": {},
   "outputs": [
    {
     "name": "stdout",
     "output_type": "stream",
     "text": [
      "Die(sides=6)\n",
      "True\n",
      "False\n"
     ]
    }
   ],
   "source": [
    "print(Die(6))\n",
    "six_sided = Die(6)\n",
    "print(six_sided==six_sided)\n",
    "\n",
    "# It shows False although they are conceptually identical \n",
    "print(six_sided==Die(6))"
   ]
  },
  {
   "cell_type": "markdown",
   "id": "f9c2cdb6",
   "metadata": {},
   "source": [
    "## Abstraction with `__eq__`"
   ]
  },
  {
   "cell_type": "code",
   "execution_count": 5,
   "id": "5bc2f1df",
   "metadata": {},
   "outputs": [],
   "source": [
    "import random\n",
    "\n",
    "class Die(Distribution):\n",
    "    def __init__(self, sides):\n",
    "        self.sides = sides # Attribute\n",
    "\n",
    "    # This one makes debugging much easier\n",
    "    # A function cannot do this\n",
    "    def __repr__(self):\n",
    "        return f\"Die(sides={self.sides})\"\n",
    "\n",
    "#    def __eq__(self, other):\n",
    "#        return self.sides==other.sides\n",
    "\n",
    "    def __eq__(self, other):\n",
    "        if isinstance(other, Die):\n",
    "            return self.sides==other.sides\n",
    "        return False\n",
    "\n",
    "    def sample(self):\n",
    "        return random.randint(1, self.sides)\n"
   ]
  },
  {
   "cell_type": "code",
   "execution_count": 6,
   "id": "193b7fd4",
   "metadata": {},
   "outputs": [
    {
     "name": "stdout",
     "output_type": "stream",
     "text": [
      "Die(sides=6)\n",
      "True\n",
      "True\n"
     ]
    }
   ],
   "source": [
    "print(Die(6))\n",
    "six_sided = Die(6)\n",
    "print(six_sided==six_sided)\n",
    "\n",
    "# It shows False although they are conceptually identical \n",
    "print(six_sided==Die(6))"
   ]
  },
  {
   "cell_type": "markdown",
   "id": "5722c22f",
   "metadata": {},
   "source": [
    "## Dataclass"
   ]
  },
  {
   "cell_type": "code",
   "execution_count": 7,
   "id": "db61355e",
   "metadata": {},
   "outputs": [],
   "source": [
    "import random\n",
    "from dataclasses import dataclass\n",
    "\n",
    "@dataclass\n",
    "class Die(Distribution):\n",
    "    def __init__(self, sides:int)->None:\n",
    "        self.sides = sides # Attribute\n",
    "    \n",
    "    def sample(self):\n",
    "        return random.randint(1, self.sides)"
   ]
  },
  {
   "cell_type": "code",
   "execution_count": 8,
   "id": "ef5129b4",
   "metadata": {},
   "outputs": [
    {
     "name": "stdout",
     "output_type": "stream",
     "text": [
      "Die()\n",
      "True\n",
      "True\n"
     ]
    }
   ],
   "source": [
    "print(Die(6))\n",
    "six_sided = Die(6)\n",
    "print(six_sided==six_sided)\n",
    "\n",
    "# It shows False although they are conceptually identical \n",
    "print(six_sided==Die(6))"
   ]
  },
  {
   "cell_type": "markdown",
   "id": "97699174",
   "metadata": {},
   "source": [
    "## Dataclass with Frozen"
   ]
  },
  {
   "cell_type": "code",
   "execution_count": 9,
   "id": "2895503e",
   "metadata": {},
   "outputs": [],
   "source": [
    "import random\n",
    "import dataclasses\n",
    "from dataclasses import dataclass\n",
    "\n",
    "@dataclass(frozen=True)\n",
    "class Die(Distribution):\n",
    "    sides: int # Specify a data type, type annotations or type hints\n",
    "\n",
    "    def sample(self)->int:\n",
    "        return random.randint(1, self.sides)"
   ]
  },
  {
   "cell_type": "code",
   "execution_count": 10,
   "id": "3e3afb7b",
   "metadata": {},
   "outputs": [
    {
     "name": "stdout",
     "output_type": "stream",
     "text": [
      "4\n",
      "Die(sides=10)\n",
      "{Die(sides=6): 'abs'}\n"
     ]
    }
   ],
   "source": [
    "die = Die(6)\n",
    "print(die.sample())\n",
    "d10 = dataclasses.replace(die, sides=10)\n",
    "print(d10)\n",
    "\n",
    "# We can use frozen dataclass as a dictionary key\n",
    "sample_dict = {die: \"abs\"} \n",
    "print(sample_dict)"
   ]
  },
  {
   "cell_type": "markdown",
   "id": "e646bdf8",
   "metadata": {},
   "source": [
    "## Static Typing\n",
    "\n",
    "Being able to find type mismatches without running code is called static typing. "
   ]
  },
  {
   "cell_type": "code",
   "execution_count": 31,
   "id": "171b1562",
   "metadata": {},
   "outputs": [],
   "source": [
    "from typing import Generic, TypeVar\n",
    "\n",
    "class Distribution(ABC):\n",
    "    @abstractmethod\n",
    "    def sample(self):\n",
    "        pass"
   ]
  },
  {
   "cell_type": "code",
   "execution_count": null,
   "id": "bc80c2f3",
   "metadata": {},
   "outputs": [],
   "source": []
  }
 ],
 "metadata": {
  "kernelspec": {
   "display_name": "Python 3 (ipykernel)",
   "language": "python",
   "name": "python3"
  },
  "language_info": {
   "codemirror_mode": {
    "name": "ipython",
    "version": 3
   },
   "file_extension": ".py",
   "mimetype": "text/x-python",
   "name": "python",
   "nbconvert_exporter": "python",
   "pygments_lexer": "ipython3",
   "version": "3.9.12"
  }
 },
 "nbformat": 4,
 "nbformat_minor": 5
}
